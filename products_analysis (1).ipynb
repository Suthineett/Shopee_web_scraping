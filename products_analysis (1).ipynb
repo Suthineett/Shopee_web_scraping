{
 "cells": [
  {
   "cell_type": "code",
   "execution_count": 182,
   "id": "062300c8",
   "metadata": {},
   "outputs": [
    {
     "name": "stdout",
     "output_type": "stream",
     "text": [
      "Requirement already satisfied: pandas in /Users/tubtib/opt/anaconda3/lib/python3.9/site-packages (1.3.4)\n",
      "Requirement already satisfied: plotnine in /Users/tubtib/opt/anaconda3/lib/python3.9/site-packages (0.8.0)\n",
      "Requirement already satisfied: python-dateutil>=2.7.3 in /Users/tubtib/opt/anaconda3/lib/python3.9/site-packages (from pandas) (2.8.2)\n",
      "Requirement already satisfied: pytz>=2017.3 in /Users/tubtib/opt/anaconda3/lib/python3.9/site-packages (from pandas) (2021.3)\n",
      "Requirement already satisfied: numpy>=1.17.3 in /Users/tubtib/opt/anaconda3/lib/python3.9/site-packages (from pandas) (1.20.3)\n",
      "Requirement already satisfied: descartes>=1.1.0 in /Users/tubtib/opt/anaconda3/lib/python3.9/site-packages (from plotnine) (1.1.0)\n",
      "Requirement already satisfied: matplotlib>=3.1.1 in /Users/tubtib/opt/anaconda3/lib/python3.9/site-packages (from plotnine) (3.4.3)\n",
      "Requirement already satisfied: patsy>=0.5.1 in /Users/tubtib/opt/anaconda3/lib/python3.9/site-packages (from plotnine) (0.5.2)\n",
      "Requirement already satisfied: mizani>=0.7.3 in /Users/tubtib/opt/anaconda3/lib/python3.9/site-packages (from plotnine) (0.7.3)\n",
      "Requirement already satisfied: statsmodels>=0.12.1 in /Users/tubtib/opt/anaconda3/lib/python3.9/site-packages (from plotnine) (0.12.2)\n",
      "Requirement already satisfied: scipy>=1.5.0 in /Users/tubtib/opt/anaconda3/lib/python3.9/site-packages (from plotnine) (1.7.1)\n",
      "Requirement already satisfied: kiwisolver>=1.0.1 in /Users/tubtib/opt/anaconda3/lib/python3.9/site-packages (from matplotlib>=3.1.1->plotnine) (1.3.1)\n",
      "Requirement already satisfied: pyparsing>=2.2.1 in /Users/tubtib/opt/anaconda3/lib/python3.9/site-packages (from matplotlib>=3.1.1->plotnine) (3.0.4)\n",
      "Requirement already satisfied: cycler>=0.10 in /Users/tubtib/opt/anaconda3/lib/python3.9/site-packages (from matplotlib>=3.1.1->plotnine) (0.10.0)\n",
      "Requirement already satisfied: pillow>=6.2.0 in /Users/tubtib/opt/anaconda3/lib/python3.9/site-packages (from matplotlib>=3.1.1->plotnine) (8.4.0)\n",
      "Requirement already satisfied: six in /Users/tubtib/opt/anaconda3/lib/python3.9/site-packages (from cycler>=0.10->matplotlib>=3.1.1->plotnine) (1.16.0)\n",
      "Requirement already satisfied: palettable in /Users/tubtib/opt/anaconda3/lib/python3.9/site-packages (from mizani>=0.7.3->plotnine) (3.3.0)\n"
     ]
    }
   ],
   "source": [
    "!pip install pandas plotnine"
   ]
  },
  {
   "cell_type": "code",
   "execution_count": 186,
   "id": "dffe5aad",
   "metadata": {},
   "outputs": [],
   "source": [
    "#Import library\n",
    "import numpy as np\n",
    "import pandas as pd\n",
    "from plotnine import *\n",
    "from matplotlib import pyplot as plt"
   ]
  },
  {
   "cell_type": "code",
   "execution_count": 107,
   "id": "d0d986d3",
   "metadata": {},
   "outputs": [
    {
     "name": "stdout",
     "output_type": "stream",
     "text": [
      "                                               product  price  amount  \\\n",
      "0    Blackmores Glucosamine 180 แคปซูล แบล็กมอร์วิต...    739  1600.0   \n",
      "1    BLACKMORES active vitamin C1000mg Bio C วิตามิ...    999    33.0   \n",
      "2           พร้อมส่ง Blackmores Bio C 1000mg วิตามินซี    500   169.0   \n",
      "3    Blackmores  แบลคมอร์ส ฟิช ออยล์ 1000 (80 แคปซู...    450   595.0   \n",
      "4    Blackmores แบลคมอร์ส 9 พลัส แคร์ โกลด์ 9+ Care...    745    69.0   \n",
      "..                                                 ...    ...     ...   \n",
      "173  Men multi Cenovis 100 เม็ด แพคเก็จใหม่ เสริมฮอ...    875    54.0   \n",
      "174                NBL BRC+ Vege Capsule (30 Capsules)    390   911.0   \n",
      "175  Astaxanthin, California Gold Nutrition, Astaxa...   1390   223.0   \n",
      "176  Cenovis Vitamin C 500mg Sugarless 300 Chewable...    500    12.0   \n",
      "177      CENOVIS ป้องกันไข้หวัด ลดอาการโรคทางเดินหายใจ    690     NaN   \n",
      "\n",
      "                   origin  \n",
      "0    จังหวัดกรุงเทพมหานคร  \n",
      "1    จังหวัดกรุงเทพมหานคร  \n",
      "2    จังหวัดกรุงเทพมหานคร  \n",
      "3      จังหวัดสมุทรปราการ  \n",
      "4      จังหวัดสมุทรปราการ  \n",
      "..                    ...  \n",
      "173  จังหวัดกรุงเทพมหานคร  \n",
      "174  จังหวัดกรุงเทพมหานคร  \n",
      "175  จังหวัดกรุงเทพมหานคร  \n",
      "176                ฮ่องกง  \n",
      "177  จังหวัดนครศรีธรรมราช  \n",
      "\n",
      "[178 rows x 4 columns]\n"
     ]
    }
   ],
   "source": [
    "#Upload excel files\n",
    "raw = pd.read_excel (r'/Users/tubtib/Desktop/Python_x_Shopee/shopee_products.xlsx')\n",
    "print(raw)"
   ]
  },
  {
   "cell_type": "code",
   "execution_count": 108,
   "id": "14291d91",
   "metadata": {},
   "outputs": [
    {
     "data": {
      "text/html": [
       "<div>\n",
       "<style scoped>\n",
       "    .dataframe tbody tr th:only-of-type {\n",
       "        vertical-align: middle;\n",
       "    }\n",
       "\n",
       "    .dataframe tbody tr th {\n",
       "        vertical-align: top;\n",
       "    }\n",
       "\n",
       "    .dataframe thead th {\n",
       "        text-align: right;\n",
       "    }\n",
       "</style>\n",
       "<table border=\"1\" class=\"dataframe\">\n",
       "  <thead>\n",
       "    <tr style=\"text-align: right;\">\n",
       "      <th></th>\n",
       "      <th>product</th>\n",
       "      <th>price</th>\n",
       "      <th>amount</th>\n",
       "      <th>origin</th>\n",
       "    </tr>\n",
       "  </thead>\n",
       "  <tbody>\n",
       "    <tr>\n",
       "      <th>0</th>\n",
       "      <td>Blackmores Glucosamine 180 แคปซูล แบล็กมอร์วิต...</td>\n",
       "      <td>739</td>\n",
       "      <td>1600.0</td>\n",
       "      <td>จังหวัดกรุงเทพมหานคร</td>\n",
       "    </tr>\n",
       "    <tr>\n",
       "      <th>1</th>\n",
       "      <td>BLACKMORES active vitamin C1000mg Bio C วิตามิ...</td>\n",
       "      <td>999</td>\n",
       "      <td>33.0</td>\n",
       "      <td>จังหวัดกรุงเทพมหานคร</td>\n",
       "    </tr>\n",
       "    <tr>\n",
       "      <th>2</th>\n",
       "      <td>พร้อมส่ง Blackmores Bio C 1000mg วิตามินซี</td>\n",
       "      <td>500</td>\n",
       "      <td>169.0</td>\n",
       "      <td>จังหวัดกรุงเทพมหานคร</td>\n",
       "    </tr>\n",
       "    <tr>\n",
       "      <th>3</th>\n",
       "      <td>Blackmores  แบลคมอร์ส ฟิช ออยล์ 1000 (80 แคปซู...</td>\n",
       "      <td>450</td>\n",
       "      <td>595.0</td>\n",
       "      <td>จังหวัดสมุทรปราการ</td>\n",
       "    </tr>\n",
       "    <tr>\n",
       "      <th>4</th>\n",
       "      <td>Blackmores แบลคมอร์ส 9 พลัส แคร์ โกลด์ 9+ Care...</td>\n",
       "      <td>745</td>\n",
       "      <td>69.0</td>\n",
       "      <td>จังหวัดสมุทรปราการ</td>\n",
       "    </tr>\n",
       "  </tbody>\n",
       "</table>\n",
       "</div>"
      ],
      "text/plain": [
       "                                             product  price  amount  \\\n",
       "0  Blackmores Glucosamine 180 แคปซูล แบล็กมอร์วิต...    739  1600.0   \n",
       "1  BLACKMORES active vitamin C1000mg Bio C วิตามิ...    999    33.0   \n",
       "2         พร้อมส่ง Blackmores Bio C 1000mg วิตามินซี    500   169.0   \n",
       "3  Blackmores  แบลคมอร์ส ฟิช ออยล์ 1000 (80 แคปซู...    450   595.0   \n",
       "4  Blackmores แบลคมอร์ส 9 พลัส แคร์ โกลด์ 9+ Care...    745    69.0   \n",
       "\n",
       "                 origin  \n",
       "0  จังหวัดกรุงเทพมหานคร  \n",
       "1  จังหวัดกรุงเทพมหานคร  \n",
       "2  จังหวัดกรุงเทพมหานคร  \n",
       "3    จังหวัดสมุทรปราการ  \n",
       "4    จังหวัดสมุทรปราการ  "
      ]
     },
     "execution_count": 108,
     "metadata": {},
     "output_type": "execute_result"
    }
   ],
   "source": [
    "# Reading raw data\n",
    "raw.head()"
   ]
  },
  {
   "cell_type": "code",
   "execution_count": 109,
   "id": "4388db6a",
   "metadata": {},
   "outputs": [],
   "source": [
    "# Creating raw data copy\n",
    "products = raw.copy()"
   ]
  },
  {
   "cell_type": "code",
   "execution_count": 110,
   "id": "ada062d7",
   "metadata": {},
   "outputs": [
    {
     "name": "stdout",
     "output_type": "stream",
     "text": [
      "<class 'pandas.core.frame.DataFrame'>\n",
      "RangeIndex: 178 entries, 0 to 177\n",
      "Data columns (total 4 columns):\n",
      " #   Column   Non-Null Count  Dtype  \n",
      "---  ------   --------------  -----  \n",
      " 0   product  178 non-null    object \n",
      " 1   price    178 non-null    int64  \n",
      " 2   amount   144 non-null    float64\n",
      " 3   origin   178 non-null    object \n",
      "dtypes: float64(1), int64(1), object(2)\n",
      "memory usage: 5.7+ KB\n"
     ]
    }
   ],
   "source": [
    "# Checking general info\n",
    "products.info()"
   ]
  },
  {
   "cell_type": "code",
   "execution_count": 189,
   "id": "977f8e92",
   "metadata": {},
   "outputs": [
    {
     "name": "stderr",
     "output_type": "stream",
     "text": [
      "/Users/tubtib/opt/anaconda3/lib/python3.9/site-packages/plotnine/layer.py:401: PlotnineWarning: geom_point : Removed 34 rows containing missing values.\n"
     ]
    },
    {
     "data": {
      "image/png": "[encoded data removed]",
      "text/plain": [
       "<Figure size 640x480 with 1 Axes>"
      ]
     },
     "metadata": {},
     "output_type": "display_data"
    },
    {
     "data": {
      "text/plain": [
       "<ggplot: (8762864338809)>"
      ]
     },
     "execution_count": 189,
     "metadata": {},
     "output_type": "execute_result"
    }
   ],
   "source": [
    "#Plot overall \n",
    "ggplot(products, aes(x='price', y='amount')) + geom_point()"
   ]
  },
  {
   "cell_type": "code",
   "execution_count": null,
   "id": "cc0aab00",
   "metadata": {},
   "outputs": [],
   "source": [
    "#drop empty rows\n",
    "products['price'].replace('', np.nan, inplace=True)\n",
    "print(products['price'])\n",
    "products['amount'].replace('', np.nan, inplace=True)\n",
    "print(products['amount'])"
   ]
  },
  {
   "cell_type": "code",
   "execution_count": null,
   "id": "49d30c5f",
   "metadata": {},
   "outputs": [],
   "source": [
    "#drop empty rows\n",
    "products.dropna(subset=['price'], inplace=True)\n",
    "print(products)\n",
    "products.dropna(subset=['amount'], inplace=True)\n",
    "print(products)"
   ]
  },
  {
   "cell_type": "code",
   "execution_count": 122,
   "id": "b6dfdb7a",
   "metadata": {
    "collapsed": true
   },
   "outputs": [
    {
     "name": "stdout",
     "output_type": "stream",
     "text": [
      "                                              product  price  amount  \\\n",
      "45  บำรุงกระดูก Blackmores Calcium แคลเซียม แบลคมอ...    250  8000.0   \n",
      "14  Blackmores Odourless Fish Oil 1000 mg 400 cap ...    599  7900.0   \n",
      "23  Exp 04/23 Blackmores Biotin H+  60 เม็ด ลดผมร่...    499  6800.0   \n",
      "28  (2ชิ้น/ท่าน)Blackmores Vitamin Bio C 1000mg. 1...    669  5900.0   \n",
      "32  Exp 07/23  Blackmores BIO C Acerola Plus 1500m...    259  4400.0   \n",
      "62      ‼️ฟรีส่ง‼️ (พร้อมส่ง)  Swiss Energy Magnesium    390  3800.0   \n",
      "20  【5698】Blackmores Vitamin C reduce cold high po...    698  3700.0   \n",
      "33  ((โฉมใหม่)) Blackmores Calcium แบลคมอร์ส แคลเซ...    239  3400.0   \n",
      "15  แพ็คเกจใหม่ Blackmores Odourless Fish Oil 1000...    770  2900.0   \n",
      "37  Blackmores Lutein-Vis แบลคมอร์ส ลูทีน-วิส บำรุ...    533  2900.0   \n",
      "\n",
      "                  origin  \n",
      "45  จังหวัดกรุงเทพมหานคร  \n",
      "14  จังหวัดกรุงเทพมหานคร  \n",
      "23  จังหวัดกรุงเทพมหานคร  \n",
      "28         จังหวัดภูเก็ต  \n",
      "32  จังหวัดกรุงเทพมหานคร  \n",
      "62  จังหวัดกรุงเทพมหานคร  \n",
      "20    จังหวัดสมุทรปราการ  \n",
      "33       จังหวัดปทุมธานี  \n",
      "15         จังหวัดภูเก็ต  \n",
      "37       จังหวัดปทุมธานี  \n"
     ]
    }
   ],
   "source": [
    "#count ther number of 10 best selling product \n",
    "best_sales = products.nlargest(10, 'amount')\n",
    "best_sales.sort_values(by=['amount'])\n",
    "print(best_sales)"
   ]
  },
  {
   "cell_type": "code",
   "execution_count": 199,
   "id": "83a1ab8b",
   "metadata": {
    "collapsed": true
   },
   "outputs": [
    {
     "data": {
      "image/png": "[encoded data removed]",
      "text/plain": [
       "<Figure size 640x480 with 1 Axes>"
      ]
     },
     "metadata": {},
     "output_type": "display_data"
    },
    {
     "data": {
      "text/plain": [
       "<ggplot: (8762865517032)>"
      ]
     },
     "execution_count": 199,
     "metadata": {},
     "output_type": "execute_result"
    }
   ],
   "source": [
    "#Plot best selling products\n",
    "ggplot(best_sales, aes(x='price', y='amount')) + geom_point()"
   ]
  },
  {
   "cell_type": "code",
   "execution_count": 169,
   "id": "3e972728",
   "metadata": {},
   "outputs": [
    {
     "data": {
      "text/html": [
       "<div>\n",
       "<style scoped>\n",
       "    .dataframe tbody tr th:only-of-type {\n",
       "        vertical-align: middle;\n",
       "    }\n",
       "\n",
       "    .dataframe tbody tr th {\n",
       "        vertical-align: top;\n",
       "    }\n",
       "\n",
       "    .dataframe thead th {\n",
       "        text-align: right;\n",
       "    }\n",
       "</style>\n",
       "<table border=\"1\" class=\"dataframe\">\n",
       "  <thead>\n",
       "    <tr style=\"text-align: right;\">\n",
       "      <th></th>\n",
       "      <th>price</th>\n",
       "      <th>amount</th>\n",
       "    </tr>\n",
       "  </thead>\n",
       "  <tbody>\n",
       "    <tr>\n",
       "      <th>price</th>\n",
       "      <td>1.000000</td>\n",
       "      <td>-0.061364</td>\n",
       "    </tr>\n",
       "    <tr>\n",
       "      <th>amount</th>\n",
       "      <td>-0.061364</td>\n",
       "      <td>1.000000</td>\n",
       "    </tr>\n",
       "  </tbody>\n",
       "</table>\n",
       "</div>"
      ],
      "text/plain": [
       "           price    amount\n",
       "price   1.000000 -0.061364\n",
       "amount -0.061364  1.000000"
      ]
     },
     "execution_count": 169,
     "metadata": {},
     "output_type": "execute_result"
    }
   ],
   "source": [
    "products.corr(method ='pearson')"
   ]
  }
 ],
 "metadata": {
  "kernelspec": {
   "display_name": "Python 3 (ipykernel)",
   "language": "python",
   "name": "python3"
  },
  "language_info": {
   "codemirror_mode": {
    "name": "ipython",
    "version": 3
   },
   "file_extension": ".py",
   "mimetype": "text/x-python",
   "name": "python",
   "nbconvert_exporter": "python",
   "pygments_lexer": "ipython3",
   "version": "3.9.7"
  }
 },
 "nbformat": 4,
 "nbformat_minor": 5
}
