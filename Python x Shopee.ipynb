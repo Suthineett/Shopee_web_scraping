{
 "cells": [
  {
   "cell_type": "code",
   "execution_count": 1,
   "id": "02955e6b",
   "metadata": {
    "scrolled": false
   },
   "outputs": [
    {
     "name": "stdout",
     "output_type": "stream",
     "text": [
      "Requirement already satisfied: webdriver-manager in /Users/tubtib/opt/anaconda3/lib/python3.9/site-packages (3.5.3)\n",
      "Requirement already satisfied: configparser in /Users/tubtib/opt/anaconda3/lib/python3.9/site-packages (from webdriver-manager) (5.2.0)\n",
      "Requirement already satisfied: requests in /Users/tubtib/opt/anaconda3/lib/python3.9/site-packages (from webdriver-manager) (2.26.0)\n",
      "Requirement already satisfied: crayons in /Users/tubtib/opt/anaconda3/lib/python3.9/site-packages (from webdriver-manager) (0.4.0)\n",
      "Requirement already satisfied: colorama in /Users/tubtib/opt/anaconda3/lib/python3.9/site-packages (from crayons->webdriver-manager) (0.4.4)\n",
      "Requirement already satisfied: urllib3<1.27,>=1.21.1 in /Users/tubtib/opt/anaconda3/lib/python3.9/site-packages (from requests->webdriver-manager) (1.26.7)\n",
      "Requirement already satisfied: certifi>=2017.4.17 in /Users/tubtib/opt/anaconda3/lib/python3.9/site-packages (from requests->webdriver-manager) (2021.10.8)\n",
      "Requirement already satisfied: idna<4,>=2.5 in /Users/tubtib/opt/anaconda3/lib/python3.9/site-packages (from requests->webdriver-manager) (3.2)\n",
      "Requirement already satisfied: charset-normalizer~=2.0.0 in /Users/tubtib/opt/anaconda3/lib/python3.9/site-packages (from requests->webdriver-manager) (2.0.4)\n",
      "Note: you may need to restart the kernel to use updated packages.\n"
     ]
    }
   ],
   "source": [
    "pip install webdriver-manager\n"
   ]
  },
  {
   "cell_type": "code",
   "execution_count": 2,
   "id": "2f61dd8c",
   "metadata": {},
   "outputs": [],
   "source": [
    "from selenium import webdriver\n",
    "from webdriver_manager.chrome import ChromeDriverManager"
   ]
  },
  {
   "cell_type": "code",
   "execution_count": 3,
   "id": "2c937691",
   "metadata": {},
   "outputs": [
    {
     "name": "stderr",
     "output_type": "stream",
     "text": [
      "\n",
      "\n",
      "====== WebDriver manager ======\n",
      "Current google-chrome version is 98.0.4758\n",
      "Get LATEST chromedriver version for 98.0.4758 google-chrome\n",
      "Driver [/Users/tubtib/.wdm/drivers/chromedriver/mac64/98.0.4758.102/chromedriver] found in cache\n"
     ]
    }
   ],
   "source": [
    "from selenium import webdriver\n",
    "from selenium.webdriver.chrome.service import Service\n",
    "from webdriver_manager.chrome import ChromeDriverManager\n",
    "\n",
    "driver = webdriver.Chrome(service=Service(ChromeDriverManager().install()))"
   ]
  },
  {
   "cell_type": "code",
   "execution_count": 4,
   "id": "41bbfba7",
   "metadata": {},
   "outputs": [],
   "source": [
    "driver.get('https://shopee.co.th/')"
   ]
  },
  {
   "cell_type": "code",
   "execution_count": 5,
   "id": "51041e96",
   "metadata": {},
   "outputs": [
    {
     "name": "stderr",
     "output_type": "stream",
     "text": [
      "/var/folders/yx/rqbhys5x4wxd93d7rv45pxfm0000gn/T/ipykernel_17415/3145361873.py:1: DeprecationWarning: find_element_by_xpath is deprecated. Please use find_element(by=By.XPATH, value=xpath) instead\n",
      "  thai_botton = driver.find_element_by_xpath('/html/body/div[2]/div[1]/div[1]/div/div[3]/div[1]/button')\n"
     ]
    }
   ],
   "source": [
    "thai_botton = driver.find_element_by_xpath('/html/body/div[2]/div[1]/div[1]/div/div[3]/div[1]/button')"
   ]
  },
  {
   "cell_type": "code",
   "execution_count": 6,
   "id": "18bc7e72",
   "metadata": {},
   "outputs": [],
   "source": [
    "thai_botton.click()"
   ]
  },
  {
   "cell_type": "code",
   "execution_count": 11,
   "id": "766d2c57",
   "metadata": {},
   "outputs": [],
   "source": [
    "close_botton = driver.execute_script('return document.querySelector(\"shopee-banner-popup-stateful\").shadowRoot.querySelector(\"div.shopee-popup__close-btn\")')"
   ]
  },
  {
   "cell_type": "code",
   "execution_count": 12,
   "id": "0c388bd4",
   "metadata": {},
   "outputs": [],
   "source": [
    "close_botton.click()"
   ]
  },
  {
   "cell_type": "code",
   "execution_count": 13,
   "id": "14991577",
   "metadata": {
    "scrolled": false
   },
   "outputs": [
    {
     "name": "stderr",
     "output_type": "stream",
     "text": [
      "/var/folders/yx/rqbhys5x4wxd93d7rv45pxfm0000gn/T/ipykernel_17415/1098367045.py:1: DeprecationWarning: find_element_by_xpath is deprecated. Please use find_element(by=By.XPATH, value=xpath) instead\n",
      "  search = driver.find_element_by_xpath('/html/body/div[1]/div/div[2]/div[1]/div[2]/div/div[1]/div[1]/div/form/input')\n"
     ]
    }
   ],
   "source": [
    "search = driver.find_element_by_xpath('/html/body/div[1]/div/div[2]/div[1]/div[2]/div/div[1]/div[1]/div/form/input')"
   ]
  },
  {
   "cell_type": "code",
   "execution_count": 14,
   "id": "91ed9085",
   "metadata": {},
   "outputs": [],
   "source": [
    "search.send_keys('Cenovis')"
   ]
  },
  {
   "cell_type": "code",
   "execution_count": 15,
   "id": "0f88f34e",
   "metadata": {},
   "outputs": [],
   "source": [
    "from selenium.webdriver.common.keys import Keys"
   ]
  },
  {
   "cell_type": "code",
   "execution_count": 16,
   "id": "d1b3fda6",
   "metadata": {},
   "outputs": [],
   "source": [
    "search.send_keys(Keys.ENTER)"
   ]
  },
  {
   "cell_type": "code",
   "execution_count": 17,
   "id": "0a9d2695",
   "metadata": {},
   "outputs": [],
   "source": [
    "driver.execute_script(\"document.body.style.zoom='5%'\")"
   ]
  },
  {
   "cell_type": "code",
   "execution_count": 18,
   "id": "06be7d6b",
   "metadata": {},
   "outputs": [],
   "source": [
    "data = driver.page_source"
   ]
  },
  {
   "cell_type": "code",
   "execution_count": 19,
   "id": "adbf2294",
   "metadata": {},
   "outputs": [
    {
     "name": "stdout",
     "output_type": "stream",
     "text": [
      "Requirement already satisfied: bs4 in /Users/tubtib/opt/anaconda3/lib/python3.9/site-packages (0.0.1)\r\n",
      "Requirement already satisfied: beautifulsoup4 in /Users/tubtib/opt/anaconda3/lib/python3.9/site-packages (from bs4) (4.10.0)\r\n",
      "Requirement already satisfied: soupsieve>1.2 in /Users/tubtib/opt/anaconda3/lib/python3.9/site-packages (from beautifulsoup4->bs4) (2.2.1)\r\n"
     ]
    }
   ],
   "source": [
    "!pip install bs4"
   ]
  },
  {
   "cell_type": "code",
   "execution_count": 20,
   "id": "a1ea31fa",
   "metadata": {},
   "outputs": [],
   "source": [
    "import bs4"
   ]
  },
  {
   "cell_type": "code",
   "execution_count": 21,
   "id": "6d6a79cf",
   "metadata": {},
   "outputs": [],
   "source": [
    "soup = bs4.BeautifulSoup(data)"
   ]
  },
  {
   "cell_type": "code",
   "execution_count": 22,
   "id": "ce67020d",
   "metadata": {},
   "outputs": [],
   "source": [
    "all_product = soup.find_all('div', {'class' : '_10Wbs- _2STCsK _3IqNCf'})"
   ]
  },
  {
   "cell_type": "code",
   "execution_count": 23,
   "id": "be1cd209",
   "metadata": {},
   "outputs": [
    {
     "data": {
      "text/plain": [
       "60"
      ]
     },
     "execution_count": 23,
     "metadata": {},
     "output_type": "execute_result"
    }
   ],
   "source": [
    "len(soup.find_all('div', {'class' : '_10Wbs- _2STCsK _3IqNCf'}))"
   ]
  },
  {
   "cell_type": "code",
   "execution_count": 24,
   "id": "e86adac9",
   "metadata": {},
   "outputs": [
    {
     "data": {
      "text/plain": [
       "['[Exp.2024] แท้100% นำเข้าวิตามินซีเม็ดเคี้ยวปราศจากน้ำตาล  เม็ดวิตามินซี  Cenovis Sugarless Vitamin C 500mg VC 100 เม็ด',\n",
       " '⚡Ready Stock⚡ Orthomol Immun Multivitamin & Mineral 1box(7ea) fpOV',\n",
       " 'Healthy Care Propolis 2000 mg 200 Capsules พรอพโพลิส สารสกัดจากรังผึ้ง 200 เม็ด',\n",
       " 'LE Two Per Day วิตามินรวม Multivitamin ช่วยบำรุงผิวพรรณ และสุขภาพโดยรวม Life Extension Thailand',\n",
       " '!!ส่งฟรี มี stock!! BetaLiv (เบต้าลีฟ) อาหารเสริมบำรุงตับ ตับแข็ง ตับอักเสบ ไขมันสะสมในตับ #betaliv #เบต้าลิฟ',\n",
       " 'Cenovis Vitamin C 500mg Sugarless 300 Chewable Tablets วิตามินซีเม็ดเคี้ยว ไม่มีน้ำตาล',\n",
       " '[แบ่งขาย 10,20,30 เม็ด]สูตรแมนเข้มข้น ❌2เท่า‼️Cenovis Men Multi+Performance วิตามินรวม สำหรับทอมที่อยากหุ่นแมน มีกล้าม',\n",
       " 'พร้อมส่ง🔥 Cenovis Mega Calcium + D สูตรดูดซึมดี💪🏻 แคลเซียม พลัส วิตามินดี (Repack 30 tablets) บำรุงกระดูก เพิ่มสูง',\n",
       " 'Cenovis® Multivitamin and Minerals วิตามินรวมและแร่ธาตุแบบเม็ด (สินค้าพร้อมส่ง!!!) (Exp. Jul/2023)',\n",
       " '*พร้อมส่ง* Cenovis Ginkgo Biloba 2000 - บำรุงสมอง บำรุงความจำ กิ้งโกะ - แพ็คสุดคุ้ม 100 เม็ด',\n",
       " 'Cenovis Cranberry 30,000 90 แคปซูล',\n",
       " 'Cenovis CoEnzyme Q10 150mg - CoQ10  เสริมสร้างพลังงานและสุขภาพหัวใจ - 90 แคปซูล',\n",
       " 'Cenovis Vitamin C 500mg chewable วิตามินซี 500mg  แบบเคี้ยว',\n",
       " 'Cenovis Mega C 1000mg วิตามินซี 60 เม็ด',\n",
       " 'Cenovis Sugarless C 500mg - Vitamin C for Immune Support - Orange Flavour - 300 Chewable Tablets Value Pack',\n",
       " 'พร้อมส่ง Cenovis Sugarless C 500mg วิตามินซีเม็ดเคี้ยว 300เม็ด',\n",
       " \"Cenovis Men,Women's Multi ซีโนวิส วิตามินรวม บำรุงร่างกาย - 50,100 เม็ด\",\n",
       " 'Cenovis Magnesium 250 Tablets Value Pack ขนาดพิเศษ',\n",
       " '【2308】Cenovis Sugarless Vitamin C 500mg 300 Chewable Tablets แท็บเล็ตวิตามินเคปราศจากน้ำตาล พร้อมส่ง แท้จริง',\n",
       " 'CENOVIS วิตามิน C แบบเม็ดอม 500mg. จากออสเตรเลีย วิตซี วิตามินซี รสชาติอร่อยมาก ได้ประโยชน์',\n",
       " 'Cenovis Iron Plus 80 เม็ด',\n",
       " '💊วิตามินบี เข้มข้น Cenovis B Complex - Vitamin B - 150 Tablets วิตามินบำรุงสมอง บำรุงประสาท',\n",
       " 'Cenovis Zinc Plus - General Wellbeing & Skin Health - 150 Tablets',\n",
       " 'Cenovis Mega E 500IU วิตามินอี 250 แคปซูล',\n",
       " 'ของแท้\\u200bพร้อม\\u200bส่ง\\u200b วิตามินแบบเคี้ยวขนาด\\u200b500\\u200b mg. ยี่ห้อ\\u200b Cenovis Sugarless Vitamin C',\n",
       " '50 เม็ด ซีโนวิส Cenovis Men’s Multivitamin วิตามินรวม',\n",
       " '🍊เข้มข้น วิตามินซี 1000 มก. Cenovis Mega C 1000mg Vitamin C  60 เม็ด สร้างภูมิคุ้มกัน ลดหวัด',\n",
       " 'Cenovis Turmeric 3100 80 แคปซูล',\n",
       " 'Cenovis Mega C 1000mg 60 Tablets วิตามินซี แบบเคี้ยว อร่อยรสส้ม',\n",
       " \"Cenovis Women's/Men/50+ Multi Multivitamin 100 Capsules\",\n",
       " 'Cenovis วิตามินซี 500 มก. ไม่มีน้ําตาล 300 เม็ด 2023',\n",
       " '*พร้อมส่ง* Cenovis Easy Sleep Valerian 2000 - ช่วยการนอนหลับ หลับสนิท คลายเครียด- 30 แคปซูล',\n",
       " \"Cenovis Men's Multi + Performance - วิตามินรวมชาย - 50 เม็ด\",\n",
       " 'Cenovis B Complex วิตามิน บี 150 เม็ด',\n",
       " \"*พร้อมส่ง*วิตามินรวม Cenovis Men and Women's Multi Multivitamin - 100 Capsules สำหรับผู้หญิงและผู้ชายโดยเฉพาะ\",\n",
       " 'ลดการร้อนใน Cenovis Cold Sore 30เม็ด Lysine, Vit C, Zinc สร้างภูมิคุ้มกัน แบรนด์ดังออสเตรเลีย',\n",
       " '💪 Cenovis Multivitamin and Minerals 200 Tablets วิตามินรวมสำหรับชายและหญิง ขนาดสุดคุ้ม',\n",
       " 'Cenovis Mega E เมกะ อีบำรุงหัวใจ ลดไขมันในเลือด',\n",
       " 'Cenovis® MEGA C 1000 mg Exp. 04/2023 พร้อมส่งฟรี!!!',\n",
       " 'Vitamin B Complex (วิตามินบีรวม) CENOVIS (AUSTRARIA) ขนาด 150 เม็ด !!!พร้อมส่ง!!!',\n",
       " 'Australia Cenovis Mega E with Natural Vitamin E VE Spot Removal Anti-Aging วิตามินอี กำจัดจุด ต่อต้านวัย ออสเตรเลีย',\n",
       " '*พร้อมส่ง* Cenovis Liver Support Milk Thistle บำรุงตับ มิลค์ทิสเทิส ขนาด 75 เม็ด',\n",
       " \"exp jul 2022 Cenovis Women's Multi - Once-Daily Multivitamin - 50 Capsules ฉลากออสเตรเลีย AUST L 318459/\",\n",
       " 'Cenovis Mega Calcium +D 200 Tablets Value Pack',\n",
       " 'Cenovis Vitamin C 500mg Sugarless 300 Chewable Tablets (EXP:09 2023)',\n",
       " 'วิตามินซี 300 เม็ด Cenovis Sugarless vitamin C',\n",
       " 'Cenovis SUGARLESS C โต๊ะเคี้ยว 500 มก.',\n",
       " \"Cenovis Men's Multi + Performance - Once-Daily Multivitamin - 50 Capsules\",\n",
       " 'ของแท้จาก\\u200bออสเตรเลีย\\u200bพร้\\u200bอ\\u200bมส่ง\\u200b วิตามิน\\u200bรวม\\u200bส\\u200bำ\\u200bห\\u200bรับ\\u200bคุณ\\u200bผู้หญิง\\u200bมีครบจบใน\\u200b 1 เม็ด\\u200b กระปุกละ\\u200b 50 เม็ด',\n",
       " 'Cenovis Sugarless Vitamin C 500mg Chewable Tablets 300 Tablets แท็บเล็ตวิตามินเคปราศจากน้ำตาล',\n",
       " 'healthy life วิตามินซี Cenovis Sugarless Vitamin C 500mg Chewable Tablets 300 Tablets แท็บเล็ตวิตามินเคปราศจากน้ำตาล lNP',\n",
       " 'CENOVIS ECHINACEA, GARLIC, ZINC + C (พร้อมส่งจากไทย)',\n",
       " 'ของแท้จากออสเตรเลีย\\u200b พร้อมส่ง\\u200b วิตามิน\\u200bรวมสำหรับคุณ\\u200bผู้ชาย\\u200b มีครบจบใน\\u200b 1 เม็ด\\u200bกระปุกละ\\u200b 50 เม็ด',\n",
       " \"Cenovis Once Daily Men's Multi Vitamins & Minerals 100 Capsules\",\n",
       " 'Men multi Cenovis 100 เม็ด แพคเก็จใหม่ เสริมฮอร์โมนชายเพิ่มความแมน Exp 07/2023',\n",
       " 'NBL BRC+ Vege Capsule (30 Capsules)',\n",
       " 'Astaxanthin, California Gold Nutrition, Astaxanthin, AstaLif Pure Icelandic, 12 mg ขวดใหญ่และขวดเล็กพร้อมส่ง!!',\n",
       " 'Biotin Zinc คณะเภสัช จุฬา 90 เม็ด ไบโอทิน ซิงก์ ผม ขน ผิว เล็บ บำรุงผิว',\n",
       " 'Cenovis Vitamin C 500mg Sugarless 300 Chewable Tablets',\n",
       " 'CENOVIS ป้องกันไข้หวัด ลดอาการโรคทางเดินหายใจ']"
      ]
     },
     "execution_count": 24,
     "metadata": {},
     "output_type": "execute_result"
    }
   ],
   "source": [
    "all_product_list = []\n",
    "for product in all_product:\n",
    "    all_product_list.append(product.text)\n",
    "all_product_list"
   ]
  },
  {
   "cell_type": "code",
   "execution_count": 25,
   "id": "b0583a6f",
   "metadata": {},
   "outputs": [],
   "source": [
    "all_price = soup.find_all ('div', {'class' : 'zp9xm9 kNGSLn l-u0xK'})"
   ]
  },
  {
   "cell_type": "code",
   "execution_count": 26,
   "id": "b56ef19c",
   "metadata": {},
   "outputs": [
    {
     "data": {
      "text/plain": [
       "60"
      ]
     },
     "execution_count": 26,
     "metadata": {},
     "output_type": "execute_result"
    }
   ],
   "source": [
    "len(soup.find_all ('div', {'class' : 'zp9xm9 kNGSLn l-u0xK'}))"
   ]
  },
  {
   "cell_type": "code",
   "execution_count": 27,
   "id": "80c64040",
   "metadata": {},
   "outputs": [
    {
     "data": {
      "text/plain": [
       "['฿369',\n",
       " '฿2,184',\n",
       " '฿519',\n",
       " '฿550',\n",
       " '฿640 - ฿2,990',\n",
       " '฿419',\n",
       " '฿290 - ฿750',\n",
       " '฿850',\n",
       " '฿670',\n",
       " '฿550',\n",
       " '฿490',\n",
       " '฿790',\n",
       " '฿440',\n",
       " '฿399',\n",
       " '฿590',\n",
       " '฿490',\n",
       " '฿950',\n",
       " '฿799',\n",
       " '฿439',\n",
       " '฿299 - ฿449',\n",
       " '฿490',\n",
       " '฿520',\n",
       " '฿490',\n",
       " '฿799',\n",
       " '฿850',\n",
       " '฿399',\n",
       " '฿490 - ฿950',\n",
       " '฿590',\n",
       " '฿550',\n",
       " '฿699',\n",
       " '฿273',\n",
       " '฿390',\n",
       " '฿699',\n",
       " '฿560',\n",
       " '฿890',\n",
       " '฿299',\n",
       " '฿690 - ฿1,330',\n",
       " '฿880',\n",
       " '฿790',\n",
       " '฿725',\n",
       " '฿829',\n",
       " '฿490',\n",
       " '฿490',\n",
       " '฿1,290',\n",
       " '฿500',\n",
       " '฿580',\n",
       " '฿407',\n",
       " '฿1,050',\n",
       " '฿550',\n",
       " '฿539',\n",
       " '฿732',\n",
       " '฿790',\n",
       " '฿550',\n",
       " '฿1,050',\n",
       " '฿875',\n",
       " '฿390 - ฿990',\n",
       " '฿1,390',\n",
       " '฿325 - ฿1,296',\n",
       " '฿500',\n",
       " '฿690']"
      ]
     },
     "execution_count": 27,
     "metadata": {},
     "output_type": "execute_result"
    }
   ],
   "source": [
    "all_price_list = []\n",
    "for price in all_price:\n",
    "    all_price_list.append(price.text)\n",
    "all_price_list"
   ]
  },
  {
   "cell_type": "code",
   "execution_count": 28,
   "id": "b1f596c8",
   "metadata": {},
   "outputs": [],
   "source": [
    "all_sales = soup.find_all ('div', {'class' : '_1uq9fs'})"
   ]
  },
  {
   "cell_type": "code",
   "execution_count": 29,
   "id": "d493cd7d",
   "metadata": {},
   "outputs": [
    {
     "data": {
      "text/plain": [
       "60"
      ]
     },
     "execution_count": 29,
     "metadata": {},
     "output_type": "execute_result"
    }
   ],
   "source": [
    "len(soup.find_all ('div', {'class' : '_1uq9fs'}))"
   ]
  },
  {
   "cell_type": "code",
   "execution_count": 30,
   "id": "3d583aa6",
   "metadata": {},
   "outputs": [
    {
     "data": {
      "text/plain": [
       "['',\n",
       " 'ขายแล้ว 6 ชิ้น',\n",
       " 'ขายแล้ว 129 ชิ้น',\n",
       " 'ขายแล้ว 1.5พัน ชิ้น',\n",
       " 'ขายแล้ว 1.6พัน ชิ้น',\n",
       " 'ขายแล้ว 122 ชิ้น',\n",
       " '',\n",
       " '',\n",
       " '',\n",
       " 'ขายแล้ว 1 ชิ้น',\n",
       " '',\n",
       " '',\n",
       " '',\n",
       " '',\n",
       " '',\n",
       " 'ขายแล้ว 1 ชิ้น',\n",
       " 'ขายแล้ว 4 ชิ้น',\n",
       " '',\n",
       " 'ขายแล้ว 47 ชิ้น',\n",
       " '',\n",
       " '',\n",
       " '',\n",
       " '',\n",
       " '',\n",
       " '',\n",
       " 'ขายแล้ว 1 ชิ้น',\n",
       " 'ขายแล้ว 3 ชิ้น',\n",
       " '',\n",
       " 'ขายแล้ว 7 ชิ้น',\n",
       " '',\n",
       " '',\n",
       " '',\n",
       " '',\n",
       " '',\n",
       " '',\n",
       " 'ขายแล้ว 3 ชิ้น',\n",
       " 'ขายแล้ว 12 ชิ้น',\n",
       " '',\n",
       " '',\n",
       " 'ขายแล้ว 17 ชิ้น',\n",
       " '',\n",
       " 'ขายแล้ว 1 ชิ้น',\n",
       " 'ขายแล้ว 24 ชิ้น',\n",
       " '',\n",
       " 'ขายแล้ว 48 ชิ้น',\n",
       " '',\n",
       " '',\n",
       " 'ขายแล้ว 1 ชิ้น',\n",
       " '',\n",
       " 'ขายแล้ว 225 ชิ้น',\n",
       " '',\n",
       " '',\n",
       " '',\n",
       " 'ขายแล้ว 1 ชิ้น',\n",
       " 'ขายแล้ว 54 ชิ้น',\n",
       " 'ขายแล้ว 911 ชิ้น',\n",
       " 'ขายแล้ว 223 ชิ้น',\n",
       " 'ขายแล้ว 8.6พัน ชิ้น',\n",
       " 'ขายแล้ว 12 ชิ้น',\n",
       " '']"
      ]
     },
     "execution_count": 30,
     "metadata": {},
     "output_type": "execute_result"
    }
   ],
   "source": [
    "all_sales_list = []\n",
    "for sales in all_sales:\n",
    "    all_sales_list.append(sales.text)\n",
    "all_sales_list"
   ]
  },
  {
   "cell_type": "code",
   "execution_count": 31,
   "id": "9f3d4165",
   "metadata": {},
   "outputs": [],
   "source": [
    "all_shipping_origin = soup.find_all ('div', {'class' : '_1Ahoby'})"
   ]
  },
  {
   "cell_type": "code",
   "execution_count": 32,
   "id": "ca9281b6",
   "metadata": {},
   "outputs": [
    {
     "data": {
      "text/plain": [
       "60"
      ]
     },
     "execution_count": 32,
     "metadata": {},
     "output_type": "execute_result"
    }
   ],
   "source": [
    "len(soup.find_all ('div', {'class' : '_1Ahoby'}))"
   ]
  },
  {
   "cell_type": "code",
   "execution_count": 33,
   "id": "2fe30215",
   "metadata": {
    "scrolled": true
   },
   "outputs": [
    {
     "data": {
      "text/plain": [
       "['จังหวัดขอนแก่น',\n",
       " 'จังหวัดกรุงเทพมหานคร',\n",
       " 'จังหวัดสมุทรปราการ',\n",
       " 'จังหวัดกรุงเทพมหานคร',\n",
       " 'จังหวัดกรุงเทพมหานคร',\n",
       " 'จังหวัดกรุงเทพมหานคร',\n",
       " 'จังหวัดชลบุรี',\n",
       " 'จังหวัดชลบุรี',\n",
       " 'จังหวัดนนทบุรี',\n",
       " 'จังหวัดนครราชสีมา',\n",
       " 'จังหวัดกำแพงเพชร',\n",
       " 'จังหวัดนครราชสีมา',\n",
       " 'จังหวัดนนทบุรี',\n",
       " 'จังหวัดกำแพงเพชร',\n",
       " 'จังหวัดนครราชสีมา',\n",
       " 'จังหวัดกรุงเทพมหานคร',\n",
       " 'จังหวัดนครราชสีมา',\n",
       " 'จังหวัดกำแพงเพชร',\n",
       " 'จังหวัดสมุทรปราการ',\n",
       " 'จังหวัดกรุงเทพมหานคร',\n",
       " 'จังหวัดกำแพงเพชร',\n",
       " 'จังหวัดประจวบคีรีขันธ์',\n",
       " 'จังหวัดนครราชสีมา',\n",
       " 'จังหวัดกำแพงเพชร',\n",
       " 'จังหวัดภูเก็ต',\n",
       " 'จังหวัดนครศรีธรรมราช',\n",
       " 'จังหวัดประจวบคีรีขันธ์',\n",
       " 'จังหวัดกำแพงเพชร',\n",
       " 'จังหวัดพัทลุง',\n",
       " 'จังหวัดกำแพงเพชร',\n",
       " 'ต่างประเทศ',\n",
       " 'จังหวัดนครราชสีมา',\n",
       " 'จังหวัดกรุงเทพมหานคร',\n",
       " 'จังหวัดกำแพงเพชร',\n",
       " 'จังหวัดนครราชสีมา',\n",
       " 'จังหวัดชลบุรี',\n",
       " 'จังหวัดประจวบคีรีขันธ์',\n",
       " 'จังหวัดปทุมธานี',\n",
       " 'จังหวัดฉะเชิงเทรา',\n",
       " 'จังหวัดนนทบุรี',\n",
       " 'จังหวัดกรุงเทพมหานคร',\n",
       " 'จังหวัดนครราชสีมา',\n",
       " 'จังหวัดสมุทรปราการ',\n",
       " 'จังหวัดกรุงเทพมหานคร',\n",
       " 'ฮ่องกง',\n",
       " 'จังหวัดนครศรีธรรมราช',\n",
       " 'ต่างประเทศ',\n",
       " 'จังหวัดปทุมธานี',\n",
       " 'จังหวัดภูเก็ต',\n",
       " 'จังหวัดกรุงเทพมหานคร',\n",
       " 'จังหวัดเชียงใหม่',\n",
       " 'จังหวัดนครศรีธรรมราช',\n",
       " 'จังหวัดภูเก็ต',\n",
       " 'จังหวัดปทุมธานี',\n",
       " 'จังหวัดกรุงเทพมหานคร',\n",
       " 'จังหวัดกรุงเทพมหานคร',\n",
       " 'จังหวัดกรุงเทพมหานคร',\n",
       " 'จังหวัดกรุงเทพมหานคร',\n",
       " 'ฮ่องกง',\n",
       " 'จังหวัดนครศรีธรรมราช']"
      ]
     },
     "execution_count": 33,
     "metadata": {},
     "output_type": "execute_result"
    }
   ],
   "source": [
    "all_shipping_origin_list = []\n",
    "for shipping_origin in all_shipping_origin:\n",
    "    all_shipping_origin_list.append(shipping_origin.text)\n",
    "all_shipping_origin_list"
   ]
  },
  {
   "cell_type": "code",
   "execution_count": 34,
   "id": "e77d1ef7",
   "metadata": {},
   "outputs": [],
   "source": [
    "import pandas as pd"
   ]
  },
  {
   "cell_type": "code",
   "execution_count": 2,
   "id": "c929603f",
   "metadata": {},
   "outputs": [
    {
     "ename": "NameError",
     "evalue": "name 'pd' is not defined",
     "output_type": "error",
     "traceback": [
      "\u001b[0;31m---------------------------------------------------------------------------\u001b[0m",
      "\u001b[0;31mNameError\u001b[0m                                 Traceback (most recent call last)",
      "\u001b[0;32m/var/folders/yx/rqbhys5x4wxd93d7rv45pxfm0000gn/T/ipykernel_23695/2793551872.py\u001b[0m in \u001b[0;36m<module>\u001b[0;34m\u001b[0m\n\u001b[0;32m----> 1\u001b[0;31m \u001b[0mshopee_data\u001b[0m \u001b[0;34m=\u001b[0m \u001b[0mpd\u001b[0m\u001b[0;34m.\u001b[0m\u001b[0mDataFrame\u001b[0m\u001b[0;34m(\u001b[0m\u001b[0;34m[\u001b[0m\u001b[0mall_product_list\u001b[0m\u001b[0;34m,\u001b[0m \u001b[0mall_price_list\u001b[0m\u001b[0;34m,\u001b[0m\u001b[0mall_sales_list\u001b[0m\u001b[0;34m,\u001b[0m\u001b[0mall_shipping_origin_list\u001b[0m\u001b[0;34m]\u001b[0m\u001b[0;34m,\u001b[0m \u001b[0mindex\u001b[0m\u001b[0;34m=\u001b[0m\u001b[0;32mFalse\u001b[0m\u001b[0;34m)\u001b[0m\u001b[0;34m\u001b[0m\u001b[0;34m\u001b[0m\u001b[0m\n\u001b[0m",
      "\u001b[0;31mNameError\u001b[0m: name 'pd' is not defined"
     ]
    }
   ],
   "source": [
    "shopee_data = pd.DataFrame([all_product_list, all_price_list,all_sales_list,all_shipping_origin_list], index=False)"
   ]
  },
  {
   "cell_type": "code",
   "execution_count": 36,
   "id": "915d8535",
   "metadata": {},
   "outputs": [],
   "source": [
    "shopee_data = shopee_data.transpose()\n"
   ]
  },
  {
   "cell_type": "code",
   "execution_count": 37,
   "id": "75d80c53",
   "metadata": {},
   "outputs": [],
   "source": [
    "shopee_data.columns = ['product', 'price', 'amount', 'origin']"
   ]
  },
  {
   "cell_type": "code",
   "execution_count": 38,
   "id": "51978db7",
   "metadata": {},
   "outputs": [],
   "source": [
    "shopee_data.to_excel(r'/Users/tubtib/Desktop/Python_x_Shopee/shopee_Cenovis_products.xlsx')"
   ]
  },
  {
   "cell_type": "code",
   "execution_count": null,
   "id": "1a9cc400",
   "metadata": {},
   "outputs": [],
   "source": []
  },
  {
   "cell_type": "code",
   "execution_count": null,
   "id": "fd0e3231",
   "metadata": {},
   "outputs": [],
   "source": []
  },
  {
   "cell_type": "code",
   "execution_count": null,
   "id": "79f82b8e",
   "metadata": {},
   "outputs": [],
   "source": []
  }
 ],
 "metadata": {
  "kernelspec": {
   "display_name": "Python 3 (ipykernel)",
   "language": "python",
   "name": "python3"
  },
  "language_info": {
   "codemirror_mode": {
    "name": "ipython",
    "version": 3
   },
   "file_extension": ".py",
   "mimetype": "text/x-python",
   "name": "python",
   "nbconvert_exporter": "python",
   "pygments_lexer": "ipython3",
   "version": "3.9.7"
  }
 },
 "nbformat": 4,
 "nbformat_minor": 5
}
